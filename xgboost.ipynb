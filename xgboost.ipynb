{
 "cells": [
  {
   "cell_type": "markdown",
   "metadata": {},
   "source": [
    "## Device maintenance Task\n",
    "Given a data set containing data collected from sensors that are monitoring a  \n",
    "certain device a stakeholder perceived the need to improve the maintenance  \n",
    "of this device.  \n",
    "\n",
    "\n",
    "He approached you and described the Business case as:  \n",
    "We have this data and I understand that we need to improve the way we  \n",
    "schedule the maintenance for this device, can you assess this data and create  \n",
    "an AI solution for it?  \n",
    "\n",
    "\n",
    "The data is composed of 53 features and 1 Class.  \n",
    "One of the features is a timestamp, the others are sensor observations.  \n",
    "Can you help me to improve the maintenance somehow?  \n",
    "You should prepare the code and a short presentation (10 minutes max)  \n",
    "explaining your approach and why you decided to use the chosen approach.  \n",
    "\n",
    "### Deliverables:\n",
    "Code in an exported notebook  \n",
    "Presentation"
   ]
  },
  {
   "cell_type": "code",
   "execution_count": null,
   "metadata": {},
   "outputs": [],
   "source": [
    "# !pip install -q -U umap-learn\n",
    "# !pip install imbalanced-learn\n",
    "# ! pip install statsmodels"
   ]
  },
  {
   "cell_type": "code",
   "execution_count": 1,
   "metadata": {},
   "outputs": [],
   "source": [
    "import pandas as pd\n",
    "import numpy as np\n",
    "import matplotlib.pyplot as plt\n",
    "import seaborn as sns\n",
    "from collections import Counter\n",
    "from xgboost import XGBClassifier\n",
    "import xgboost as xgb\n",
    "from sklearn.model_selection import train_test_split\n",
    "from sklearn.metrics import recall_score, precision_score, balanced_accuracy_score, confusion_matrix, f1_score\n",
    "import random\n",
    "import json\n",
    "from tqdm.notebook import tqdm\n",
    "from sklearn.metrics import mean_squared_error, mean_absolute_error\n",
    "from sklearn.metrics import classification_report\n",
    "import utils\n",
    "pd.set_option('display.max_rows', 60)\n",
    "%load_ext autoreload\n",
    "%autoreload 2"
   ]
  },
  {
   "cell_type": "code",
   "execution_count": 2,
   "metadata": {},
   "outputs": [
    {
     "name": "stdout",
     "output_type": "stream",
     "text": [
      "(220320, 54)\n"
     ]
    },
    {
     "data": {
      "text/html": [
       "<div>\n",
       "<style scoped>\n",
       "    .dataframe tbody tr th:only-of-type {\n",
       "        vertical-align: middle;\n",
       "    }\n",
       "\n",
       "    .dataframe tbody tr th {\n",
       "        vertical-align: top;\n",
       "    }\n",
       "\n",
       "    .dataframe thead th {\n",
       "        text-align: right;\n",
       "    }\n",
       "</style>\n",
       "<table border=\"1\" class=\"dataframe\">\n",
       "  <thead>\n",
       "    <tr style=\"text-align: right;\">\n",
       "      <th></th>\n",
       "      <th>timestamp</th>\n",
       "      <th>sensor_00</th>\n",
       "      <th>sensor_01</th>\n",
       "      <th>sensor_02</th>\n",
       "      <th>sensor_03</th>\n",
       "      <th>sensor_04</th>\n",
       "      <th>sensor_05</th>\n",
       "      <th>sensor_06</th>\n",
       "      <th>sensor_07</th>\n",
       "      <th>sensor_08</th>\n",
       "      <th>...</th>\n",
       "      <th>sensor_43</th>\n",
       "      <th>sensor_44</th>\n",
       "      <th>sensor_45</th>\n",
       "      <th>sensor_46</th>\n",
       "      <th>sensor_47</th>\n",
       "      <th>sensor_48</th>\n",
       "      <th>sensor_49</th>\n",
       "      <th>sensor_50</th>\n",
       "      <th>sensor_51</th>\n",
       "      <th>machine_status</th>\n",
       "    </tr>\n",
       "  </thead>\n",
       "  <tbody>\n",
       "    <tr>\n",
       "      <th>0</th>\n",
       "      <td>2018-04-01 00:00:00</td>\n",
       "      <td>2.465394</td>\n",
       "      <td>47.09201</td>\n",
       "      <td>53.2118</td>\n",
       "      <td>46.310760</td>\n",
       "      <td>634.3750</td>\n",
       "      <td>76.45975</td>\n",
       "      <td>13.41146</td>\n",
       "      <td>16.13136</td>\n",
       "      <td>15.56713</td>\n",
       "      <td>...</td>\n",
       "      <td>41.92708</td>\n",
       "      <td>39.641200</td>\n",
       "      <td>65.68287</td>\n",
       "      <td>50.92593</td>\n",
       "      <td>38.194440</td>\n",
       "      <td>157.9861</td>\n",
       "      <td>67.70834</td>\n",
       "      <td>243.0556</td>\n",
       "      <td>201.3889</td>\n",
       "      <td>NORMAL</td>\n",
       "    </tr>\n",
       "    <tr>\n",
       "      <th>1</th>\n",
       "      <td>2018-04-01 00:01:00</td>\n",
       "      <td>2.465394</td>\n",
       "      <td>47.09201</td>\n",
       "      <td>53.2118</td>\n",
       "      <td>46.310760</td>\n",
       "      <td>634.3750</td>\n",
       "      <td>76.45975</td>\n",
       "      <td>13.41146</td>\n",
       "      <td>16.13136</td>\n",
       "      <td>15.56713</td>\n",
       "      <td>...</td>\n",
       "      <td>41.92708</td>\n",
       "      <td>39.641200</td>\n",
       "      <td>65.68287</td>\n",
       "      <td>50.92593</td>\n",
       "      <td>38.194440</td>\n",
       "      <td>157.9861</td>\n",
       "      <td>67.70834</td>\n",
       "      <td>243.0556</td>\n",
       "      <td>201.3889</td>\n",
       "      <td>NORMAL</td>\n",
       "    </tr>\n",
       "    <tr>\n",
       "      <th>2</th>\n",
       "      <td>2018-04-01 00:02:00</td>\n",
       "      <td>2.444734</td>\n",
       "      <td>47.35243</td>\n",
       "      <td>53.2118</td>\n",
       "      <td>46.397570</td>\n",
       "      <td>638.8889</td>\n",
       "      <td>73.54598</td>\n",
       "      <td>13.32465</td>\n",
       "      <td>16.03733</td>\n",
       "      <td>15.61777</td>\n",
       "      <td>...</td>\n",
       "      <td>41.66666</td>\n",
       "      <td>39.351852</td>\n",
       "      <td>65.39352</td>\n",
       "      <td>51.21528</td>\n",
       "      <td>38.194443</td>\n",
       "      <td>155.9606</td>\n",
       "      <td>67.12963</td>\n",
       "      <td>241.3194</td>\n",
       "      <td>203.7037</td>\n",
       "      <td>NORMAL</td>\n",
       "    </tr>\n",
       "    <tr>\n",
       "      <th>3</th>\n",
       "      <td>2018-04-01 00:03:00</td>\n",
       "      <td>2.460474</td>\n",
       "      <td>47.09201</td>\n",
       "      <td>53.1684</td>\n",
       "      <td>46.397568</td>\n",
       "      <td>628.1250</td>\n",
       "      <td>76.98898</td>\n",
       "      <td>13.31742</td>\n",
       "      <td>16.24711</td>\n",
       "      <td>15.69734</td>\n",
       "      <td>...</td>\n",
       "      <td>40.88541</td>\n",
       "      <td>39.062500</td>\n",
       "      <td>64.81481</td>\n",
       "      <td>51.21528</td>\n",
       "      <td>38.194440</td>\n",
       "      <td>155.9606</td>\n",
       "      <td>66.84028</td>\n",
       "      <td>240.4514</td>\n",
       "      <td>203.1250</td>\n",
       "      <td>NORMAL</td>\n",
       "    </tr>\n",
       "    <tr>\n",
       "      <th>4</th>\n",
       "      <td>2018-04-01 00:04:00</td>\n",
       "      <td>2.445718</td>\n",
       "      <td>47.13541</td>\n",
       "      <td>53.2118</td>\n",
       "      <td>46.397568</td>\n",
       "      <td>636.4583</td>\n",
       "      <td>76.58897</td>\n",
       "      <td>13.35359</td>\n",
       "      <td>16.21094</td>\n",
       "      <td>15.69734</td>\n",
       "      <td>...</td>\n",
       "      <td>41.40625</td>\n",
       "      <td>38.773150</td>\n",
       "      <td>65.10416</td>\n",
       "      <td>51.79398</td>\n",
       "      <td>38.773150</td>\n",
       "      <td>158.2755</td>\n",
       "      <td>66.55093</td>\n",
       "      <td>242.1875</td>\n",
       "      <td>201.3889</td>\n",
       "      <td>NORMAL</td>\n",
       "    </tr>\n",
       "  </tbody>\n",
       "</table>\n",
       "<p>5 rows × 54 columns</p>\n",
       "</div>"
      ],
      "text/plain": [
       "             timestamp  sensor_00  sensor_01  sensor_02  sensor_03  sensor_04  \\\n",
       "0  2018-04-01 00:00:00   2.465394   47.09201    53.2118  46.310760   634.3750   \n",
       "1  2018-04-01 00:01:00   2.465394   47.09201    53.2118  46.310760   634.3750   \n",
       "2  2018-04-01 00:02:00   2.444734   47.35243    53.2118  46.397570   638.8889   \n",
       "3  2018-04-01 00:03:00   2.460474   47.09201    53.1684  46.397568   628.1250   \n",
       "4  2018-04-01 00:04:00   2.445718   47.13541    53.2118  46.397568   636.4583   \n",
       "\n",
       "   sensor_05  sensor_06  sensor_07  sensor_08  ...  sensor_43  sensor_44  \\\n",
       "0   76.45975   13.41146   16.13136   15.56713  ...   41.92708  39.641200   \n",
       "1   76.45975   13.41146   16.13136   15.56713  ...   41.92708  39.641200   \n",
       "2   73.54598   13.32465   16.03733   15.61777  ...   41.66666  39.351852   \n",
       "3   76.98898   13.31742   16.24711   15.69734  ...   40.88541  39.062500   \n",
       "4   76.58897   13.35359   16.21094   15.69734  ...   41.40625  38.773150   \n",
       "\n",
       "   sensor_45  sensor_46  sensor_47  sensor_48  sensor_49  sensor_50  \\\n",
       "0   65.68287   50.92593  38.194440   157.9861   67.70834   243.0556   \n",
       "1   65.68287   50.92593  38.194440   157.9861   67.70834   243.0556   \n",
       "2   65.39352   51.21528  38.194443   155.9606   67.12963   241.3194   \n",
       "3   64.81481   51.21528  38.194440   155.9606   66.84028   240.4514   \n",
       "4   65.10416   51.79398  38.773150   158.2755   66.55093   242.1875   \n",
       "\n",
       "   sensor_51  machine_status  \n",
       "0   201.3889          NORMAL  \n",
       "1   201.3889          NORMAL  \n",
       "2   203.7037          NORMAL  \n",
       "3   203.1250          NORMAL  \n",
       "4   201.3889          NORMAL  \n",
       "\n",
       "[5 rows x 54 columns]"
      ]
     },
     "execution_count": 2,
     "metadata": {},
     "output_type": "execute_result"
    }
   ],
   "source": [
    "df = pd.read_csv('data/DATA.csv', index_col=0)\n",
    "print(df.shape)\n",
    "df.head()"
   ]
  },
  {
   "cell_type": "code",
   "execution_count": 3,
   "metadata": {},
   "outputs": [
    {
     "data": {
      "text/plain": [
       "sensor_15         220320\n",
       "sensor_50          77017\n",
       "sensor_51          15383\n",
       "sensor_00          10208\n",
       "sensor_07           5451\n",
       "sensor_08           5107\n",
       "sensor_06           4798\n",
       "sensor_09           4595\n",
       "sensor_01            369\n",
       "sensor_30            261\n",
       "sensor_29             72\n",
       "sensor_32             68\n",
       "sensor_18             46\n",
       "sensor_17             46\n",
       "sensor_22             41\n",
       "sensor_25             36\n",
       "sensor_16             31\n",
       "sensor_49             27\n",
       "sensor_48             27\n",
       "sensor_47             27\n",
       "sensor_46             27\n",
       "sensor_45             27\n",
       "sensor_44             27\n",
       "sensor_43             27\n",
       "sensor_42             27\n",
       "sensor_41             27\n",
       "sensor_40             27\n",
       "sensor_39             27\n",
       "sensor_38             27\n",
       "sensor_14             21\n",
       "sensor_26             20\n",
       "sensor_03             19\n",
       "sensor_10             19\n",
       "sensor_13             19\n",
       "sensor_12             19\n",
       "sensor_11             19\n",
       "sensor_05             19\n",
       "sensor_04             19\n",
       "sensor_02             19\n",
       "sensor_36             16\n",
       "sensor_37             16\n",
       "sensor_28             16\n",
       "sensor_27             16\n",
       "sensor_31             16\n",
       "sensor_35             16\n",
       "sensor_24             16\n",
       "sensor_23             16\n",
       "sensor_34             16\n",
       "sensor_21             16\n",
       "sensor_20             16\n",
       "sensor_19             16\n",
       "sensor_33             16\n",
       "timestamp              0\n",
       "machine_status         0\n",
       "dtype: int64"
      ]
     },
     "execution_count": 3,
     "metadata": {},
     "output_type": "execute_result"
    }
   ],
   "source": [
    "df.isnull().sum().sort_values(ascending=False)"
   ]
  },
  {
   "cell_type": "code",
   "execution_count": 4,
   "metadata": {},
   "outputs": [],
   "source": [
    "# Drop empty column\n",
    "df.drop([\"sensor_15\"], axis = 1, inplace = True)"
   ]
  },
  {
   "cell_type": "code",
   "execution_count": 5,
   "metadata": {},
   "outputs": [],
   "source": [
    "df['timestamp'] = pd.to_datetime(df['timestamp'], format='%Y-%m-%d %H:%M:%S')"
   ]
  },
  {
   "cell_type": "code",
   "execution_count": 6,
   "metadata": {},
   "outputs": [],
   "source": [
    "# np.unique(df[\"timestamp\"].dt.date).shape, Counter(df[\"timestamp\"].dt.date)"
   ]
  },
  {
   "cell_type": "code",
   "execution_count": 7,
   "metadata": {},
   "outputs": [],
   "source": [
    "\n",
    "df.set_index('timestamp', inplace=True)"
   ]
  },
  {
   "cell_type": "code",
   "execution_count": 8,
   "metadata": {},
   "outputs": [
    {
     "name": "stdout",
     "output_type": "stream",
     "text": [
      "51 Index(['sensor_00', 'sensor_01', 'sensor_02', 'sensor_03', 'sensor_04',\n",
      "       'sensor_05', 'sensor_06', 'sensor_07', 'sensor_08', 'sensor_09',\n",
      "       'sensor_10', 'sensor_11', 'sensor_12', 'sensor_13', 'sensor_14',\n",
      "       'sensor_16', 'sensor_17', 'sensor_18', 'sensor_19', 'sensor_20',\n",
      "       'sensor_21', 'sensor_22', 'sensor_23', 'sensor_24', 'sensor_25',\n",
      "       'sensor_26', 'sensor_27', 'sensor_28', 'sensor_29', 'sensor_30',\n",
      "       'sensor_31', 'sensor_32', 'sensor_33', 'sensor_34', 'sensor_35',\n",
      "       'sensor_36', 'sensor_37', 'sensor_38', 'sensor_39', 'sensor_40',\n",
      "       'sensor_41', 'sensor_42', 'sensor_43', 'sensor_44', 'sensor_45',\n",
      "       'sensor_46', 'sensor_47', 'sensor_48', 'sensor_49', 'sensor_50',\n",
      "       'sensor_51'],\n",
      "      dtype='object')\n"
     ]
    }
   ],
   "source": [
    "cols = df.columns[:-1]\n",
    "print(len(cols), cols)"
   ]
  },
  {
   "cell_type": "markdown",
   "metadata": {},
   "source": [
    "# Target variable\n",
    "Data is highly imbalanced"
   ]
  },
  {
   "cell_type": "code",
   "execution_count": 9,
   "metadata": {},
   "outputs": [
    {
     "data": {
      "text/plain": [
       "machine_status\n",
       "NORMAL         205836\n",
       "MAINTENANCE     14477\n",
       "BROKEN              7\n",
       "Name: count, dtype: int64"
      ]
     },
     "execution_count": 9,
     "metadata": {},
     "output_type": "execute_result"
    }
   ],
   "source": [
    "df[\"machine_status\"].value_counts()"
   ]
  },
  {
   "cell_type": "code",
   "execution_count": 10,
   "metadata": {},
   "outputs": [],
   "source": [
    "df, cols = utils.preprocess(df)"
   ]
  },
  {
   "cell_type": "markdown",
   "metadata": {},
   "source": [
    "# Filtering\n",
    "Remove maintenance and last normal period\n"
   ]
  },
  {
   "cell_type": "code",
   "execution_count": 11,
   "metadata": {},
   "outputs": [
    {
     "name": "stdout",
     "output_type": "stream",
     "text": [
      "(205843, 54)\n"
     ]
    }
   ],
   "source": [
    "df = df[df[\"machine_status\"] != \"MAINTENANCE\"]\n",
    "print(df.shape)"
   ]
  },
  {
   "cell_type": "code",
   "execution_count": 12,
   "metadata": {},
   "outputs": [
    {
     "name": "stdout",
     "output_type": "stream",
     "text": [
      "(152039, 54)\n"
     ]
    }
   ],
   "source": [
    "df = df[df['idx'] <= df[df[\"machine_status\"] == \"BROKEN\"][\"idx\"].values[-1]]\n",
    "print(df.shape)\n",
    "df['idx'] = np.arange(df.shape[0])"
   ]
  },
  {
   "cell_type": "code",
   "execution_count": null,
   "metadata": {},
   "outputs": [],
   "source": [
    "# cols = cols[[0,4,5,6,7,8,9]]\n",
    "# extra_cols = []\n",
    "# for c in cols:\n",
    "#     df[f'rm{c}'] = df[f'{c}'].rolling(window=100, min_periods = 1).mean()\n",
    "#     df[f'shifted{c}'] = df[f'rm{c}'].shift(100)\n",
    "#     extra_cols.append(f'rm{c}')\n",
    "#     extra_cols.append(f'shifted{c}')\n",
    "\n",
    "# cols = np.concatenate([cols, extra_cols])\n",
    "# print(cols)"
   ]
  },
  {
   "cell_type": "markdown",
   "metadata": {},
   "source": [
    "# Create survival columns"
   ]
  },
  {
   "cell_type": "code",
   "execution_count": 13,
   "metadata": {},
   "outputs": [],
   "source": [
    "prev = 0\n",
    "survival = np.zeros(df.shape[0])\n",
    "incident = np.zeros(df.shape[0])\n",
    "broken_idx = df[df['y'] == 0]['idx'].values\n",
    "for ii, i in enumerate(broken_idx):\n",
    "    survival[prev:i+1] = np.arange(i-prev+1)[::-1]\n",
    "    incident[prev:i+1] = np.ones(i-prev+1) * ii\n",
    "    prev = i + 1\n",
    "df['survival'] = survival.astype(int)\n",
    "df['incident_nb'] = incident.astype(int)"
   ]
  },
  {
   "cell_type": "code",
   "execution_count": 14,
   "metadata": {},
   "outputs": [
    {
     "data": {
      "text/plain": [
       "incident_nb\n",
       "4    49645\n",
       "2    41698\n",
       "6    25268\n",
       "0    17156\n",
       "3     7160\n",
       "1     6411\n",
       "5     4701\n",
       "Name: count, dtype: int64"
      ]
     },
     "execution_count": 14,
     "metadata": {},
     "output_type": "execute_result"
    }
   ],
   "source": [
    "df['incident_nb'].value_counts()"
   ]
  },
  {
   "cell_type": "markdown",
   "metadata": {},
   "source": [
    "# Dataset creation for training"
   ]
  },
  {
   "cell_type": "code",
   "execution_count": 15,
   "metadata": {},
   "outputs": [],
   "source": [
    "df.set_index(np.arange(len(df)), inplace = True)"
   ]
  },
  {
   "cell_type": "code",
   "execution_count": 20,
   "metadata": {},
   "outputs": [
    {
     "name": "stdout",
     "output_type": "stream",
     "text": [
      "(15207, 51, 1) (15207,) Counter({0: 14227, 1: 980})\n"
     ]
    }
   ],
   "source": [
    "prediction_horizon = 1400\n",
    "window_size = 1\n",
    "X, y_reg, y_classif, incident_ref, idx_ref = utils.prepare_dataset(df, cols, window_size,  \n",
    "                                                                   prediction_horizon, autocorr_window = 10)\n",
    "\n",
    "print(X.shape, y_reg.shape, Counter(y_classif))"
   ]
  },
  {
   "cell_type": "code",
   "execution_count": 21,
   "metadata": {},
   "outputs": [],
   "source": [
    "model, f1, cm = utils.classification(X, y_classif, random_state=1)"
   ]
  },
  {
   "cell_type": "markdown",
   "metadata": {},
   "source": [
    "# Feature importance"
   ]
  },
  {
   "cell_type": "code",
   "execution_count": 22,
   "metadata": {},
   "outputs": [],
   "source": [
    "# Assuming that 'model' is your trained XGBoost model\n",
    "# xgb.plot_importance(model)\n",
    "# plt.rcParams['figure.figsize'] = [20, 10]\n",
    "# plt.show()"
   ]
  },
  {
   "cell_type": "code",
   "execution_count": 23,
   "metadata": {},
   "outputs": [
    {
     "name": "stdout",
     "output_type": "stream",
     "text": [
      "4514.5285079390915\n"
     ]
    }
   ],
   "source": [
    "model, mae = utils.regression(X, y_reg, y_classif, random_state=1)\n",
    "print(mae)"
   ]
  },
  {
   "cell_type": "markdown",
   "metadata": {},
   "source": [
    "# Simulation loop\n"
   ]
  },
  {
   "cell_type": "code",
   "execution_count": 24,
   "metadata": {},
   "outputs": [],
   "source": [
    "res = pd.DataFrame(columns=[\"window\",\"prediction horizon\",\"f1\", \"mae\", \"cm\", \"n_samples\"])\n",
    "window_sizes = [1, 2, 10, 20]\n",
    "prediction_horizons = [100,  300, 700, 1000, 1400]"
   ]
  },
  {
   "cell_type": "code",
   "execution_count": 25,
   "metadata": {},
   "outputs": [
    {
     "name": "stdout",
     "output_type": "stream",
     "text": [
      "1 100\n",
      "1 100\n",
      "1 300\n",
      "1 300\n",
      "1 700\n",
      "1 700\n",
      "1 1000\n",
      "1 1000\n",
      "1 1400\n",
      "1 1400\n",
      "2 100\n",
      "2 100\n",
      "2 300\n",
      "2 300\n",
      "2 700\n",
      "2 700\n",
      "2 1000\n",
      "2 1000\n",
      "2 1400\n",
      "2 1400\n",
      "10 100\n",
      "10 100\n",
      "10 300\n",
      "10 300\n",
      "10 700\n",
      "10 700\n",
      "10 1000\n",
      "10 1000\n",
      "10 1400\n",
      "10 1400\n",
      "20 100\n",
      "20 100\n",
      "20 300\n",
      "20 300\n",
      "20 700\n",
      "20 700\n",
      "20 1000\n",
      "20 1000\n",
      "20 1400\n",
      "20 1400\n"
     ]
    }
   ],
   "source": [
    "for window_size in window_sizes:\n",
    "    for prediction_horizon in prediction_horizons:\n",
    "        for random_state in range(1, 3):\n",
    "            print(window_size, prediction_horizon)\n",
    "            X, y_reg, y_classif, incident_ref, idx_ref = utils.prepare_dataset(df, cols, window_size,  prediction_horizon, autocorr_window = 10)\n",
    "            model, f1, cm = utils.classification(X, y_classif, random_state=random_state)\n",
    "            model, mae = utils.regression(X, y_reg, y_classif, random_state=random_state)\n",
    "            res.loc[res.shape[0]] = [window_size, prediction_horizon, f1, mae, cm, X.shape]"
   ]
  },
  {
   "cell_type": "code",
   "execution_count": null,
   "metadata": {},
   "outputs": [],
   "source": [
    "# res"
   ]
  },
  {
   "cell_type": "code",
   "execution_count": 32,
   "metadata": {},
   "outputs": [
    {
     "data": {
      "text/html": [
       "<div>\n",
       "<style scoped>\n",
       "    .dataframe tbody tr th:only-of-type {\n",
       "        vertical-align: middle;\n",
       "    }\n",
       "\n",
       "    .dataframe tbody tr th {\n",
       "        vertical-align: top;\n",
       "    }\n",
       "\n",
       "    .dataframe thead th {\n",
       "        text-align: right;\n",
       "    }\n",
       "</style>\n",
       "<table border=\"1\" class=\"dataframe\">\n",
       "  <thead>\n",
       "    <tr style=\"text-align: right;\">\n",
       "      <th></th>\n",
       "      <th>0</th>\n",
       "    </tr>\n",
       "  </thead>\n",
       "  <tbody>\n",
       "    <tr>\n",
       "      <th>0</th>\n",
       "      <td>4582.05</td>\n",
       "    </tr>\n",
       "    <tr>\n",
       "      <th>1</th>\n",
       "      <td>4698.11</td>\n",
       "    </tr>\n",
       "    <tr>\n",
       "      <th>2</th>\n",
       "      <td>4557.00</td>\n",
       "    </tr>\n",
       "    <tr>\n",
       "      <th>3</th>\n",
       "      <td>4561.96</td>\n",
       "    </tr>\n",
       "  </tbody>\n",
       "</table>\n",
       "</div>"
      ],
      "text/plain": [
       "         0\n",
       "0  4582.05\n",
       "1  4698.11\n",
       "2  4557.00\n",
       "3  4561.96"
      ]
     },
     "execution_count": 32,
     "metadata": {},
     "output_type": "execute_result"
    }
   ],
   "source": [
    "pd.DataFrame(matrix)"
   ]
  },
  {
   "cell_type": "code",
   "execution_count": 37,
   "metadata": {},
   "outputs": [
    {
     "data": {
      "text/plain": [
       "Text(0.5, 1.0, 'Mean MAE score')"
      ]
     },
     "execution_count": 37,
     "metadata": {},
     "output_type": "execute_result"
    },
    {
     "data": {
      "image/png": "[encoded data removed]",
      "text/plain": [
       "<Figure size 600x400 with 2 Axes>"
      ]
     },
     "metadata": {},
     "output_type": "display_data"
    }
   ],
   "source": [
    "matrix = res.groupby([\"window\"]).agg({\"mae\":\"mean\"}).unstack().round(2).values\n",
    "matrix = pd.DataFrame(matrix)\n",
    "plt.figure(figsize=(6, 4))\n",
    "sns.heatmap(matrix, cmap='RdYlGn', yticklabels=window_sizes, annot=True, fmt=\".2f\")\n",
    "plt.xlabel('Nb of timesteps to predict failure')\n",
    "plt.ylabel('Timesteps in samples')\n",
    "plt.title('Mean MAE score')"
   ]
  },
  {
   "cell_type": "code",
   "execution_count": 29,
   "metadata": {},
   "outputs": [
    {
     "data": {
      "text/plain": [
       "Text(0.5, 1.0, 'Mean F1 score')"
      ]
     },
     "execution_count": 29,
     "metadata": {},
     "output_type": "execute_result"
    },
    {
     "data": {
      "image/png": "[encoded data removed]",
      "text/plain": [
       "<Figure size 600x400 with 2 Axes>"
      ]
     },
     "metadata": {},
     "output_type": "display_data"
    }
   ],
   "source": [
    "matrix = res.groupby([\"window\",\"prediction horizon\"]).agg({\"f1\":\"mean\"}).unstack().round(2).values\n",
    "plt.figure(figsize=(6, 4))\n",
    "sns.heatmap(matrix, cmap='RdYlGn', xticklabels=prediction_horizons, yticklabels=window_sizes, annot=True, fmt=\".2f\")\n",
    "plt.xlabel('Nb of timesteps to predict failure')\n",
    "plt.ylabel('Timesteps in samples')\n",
    "plt.title('Mean F1 score')\n"
   ]
  },
  {
   "cell_type": "markdown",
   "metadata": {},
   "source": []
  },
  {
   "cell_type": "markdown",
   "metadata": {},
   "source": [
    "# Classification"
   ]
  },
  {
   "cell_type": "code",
   "execution_count": 45,
   "metadata": {},
   "outputs": [
    {
     "name": "stdout",
     "output_type": "stream",
     "text": [
      "(19008, 51, 2)\n"
     ]
    }
   ],
   "source": [
    "X, y_reg, y_classif, incident_ref, idx_ref = utils.prepare_dataset(df, cols, 2,  1400, autocorr_window = 8)\n",
    "print(X.shape)"
   ]
  },
  {
   "cell_type": "code",
   "execution_count": 46,
   "metadata": {},
   "outputs": [],
   "source": [
    "# unique_incidents = np.unique(incident_ref)\n",
    "# _, _, Y_train, Y_test = train_test_split(np.arange(len(unique_incidents)), \n",
    "#     unique_incidents, test_size=0.2, random_state=10)\n",
    "# Y_train = [0, 1, 2, 3, 5, 6]\n",
    "# Y_test = [4]\n",
    "# print(Y_train, Y_test)\n",
    "\n",
    "# idx_train = np.where(np.in1d(incident_ref, Y_train))[0]\n",
    "# idx_test = np.where(np.in1d(incident_ref, Y_test))[0]\n",
    "# print(idx_test.shape, idx_train.shape)\n",
    "# print(len(idx_train), len(idx_test), Counter(incident_ref[idx_test]))\n",
    "\n",
    "# y_classif_train = y_classif[idx_train]\n",
    "# print(Counter(y_classif_train))\n",
    "# c0_idx_train = idx_train[np.where(y_classif_train == 1)[0]]\n",
    "\n",
    "# c1_idx_train = idx_train[random.sample(list(np.where(y_classif_train == 0)[0]), int(len(c0_idx_train) *1.2))]\n",
    "# print(len(c0_idx_train),  len(c1_idx_train))\n",
    "\n",
    "# idx_train = np.concatenate([c0_idx_train, c1_idx_train])\n",
    "# print(len(idx_train))"
   ]
  },
  {
   "cell_type": "code",
   "execution_count": 47,
   "metadata": {},
   "outputs": [
    {
     "name": "stdout",
     "output_type": "stream",
     "text": [
      "Counter({0: 12448, 1: 857}) Counter({0: 5335, 1: 368})\n",
      "857 1285\n",
      "2142\n"
     ]
    }
   ],
   "source": [
    "idx_train, idx_test, Y_train, Y_test = train_test_split(np.arange(len(y_classif)), \n",
    "    y_classif, test_size=0.3, random_state=0, stratify=y_classif)\n",
    "print(Counter(Y_train), Counter(Y_test))\n",
    "\n",
    "c0_idx_train = idx_train[np.where(Y_train == 1)[0]]\n",
    "c1_idx_train = idx_train[random.sample(list(np.where(Y_train == 0)[0]), int(len(c0_idx_train) *1.5))]\n",
    "print(len(c0_idx_train),  len(c1_idx_train))\n",
    "\n",
    "idx_train = np.concatenate([c0_idx_train, c1_idx_train])\n",
    "print(len(idx_train))"
   ]
  },
  {
   "cell_type": "code",
   "execution_count": 48,
   "metadata": {},
   "outputs": [
    {
     "name": "stdout",
     "output_type": "stream",
     "text": [
      "[1.66692607 2.49941657]\n",
      "[1.66692607 4.99883314]\n"
     ]
    }
   ],
   "source": [
    "class_weights = len(idx_train) / np.bincount(y_classif[idx_train])\n",
    "print(class_weights)\n",
    "class_weights[1] = 2* class_weights[1]\n",
    "print(class_weights)\n",
    "train_weights = [class_weights[i] for i in y_classif[idx_train]]\n",
    "model = XGBClassifier()\n",
    "model.fit(X[idx_train].reshape(len(idx_train), -1), y_classif[idx_train],\n",
    "sample_weight=train_weights\n",
    ");"
   ]
  },
  {
   "cell_type": "code",
   "execution_count": 49,
   "metadata": {},
   "outputs": [
    {
     "name": "stdout",
     "output_type": "stream",
     "text": [
      "Counter({0: 5220, 1: 483})\n",
      "F1:  0.8460634547591069\n",
      "Recall:  0.9770296335262143\n",
      "Precision:  0.9821338714843042\n",
      "Balanced Accuracy:  0.9776027871724868\n",
      "Confusion Matrix: \n",
      " [[5212  123]\n",
      " [   8  360]]\n"
     ]
    }
   ],
   "source": [
    "preds = model.predict(X[idx_test].reshape(len(idx_test), -1))\n",
    "true = y_classif[idx_test]\n",
    "print(Counter(preds))\n",
    "f1 = f1_score(true, preds)\n",
    "cm = confusion_matrix(true, preds)\n",
    "print('F1: ', f1)\n",
    "print('Recall: ', recall_score(true, preds, average='weighted'))\n",
    "print('Precision: ', precision_score(true, preds, average='weighted'))\n",
    "print('Balanced Accuracy: ', balanced_accuracy_score(true, preds))\n",
    "print('Confusion Matrix: \\n', cm)"
   ]
  },
  {
   "cell_type": "code",
   "execution_count": null,
   "metadata": {},
   "outputs": [],
   "source": []
  },
  {
   "cell_type": "code",
   "execution_count": 28,
   "metadata": {},
   "outputs": [
    {
     "data": {
      "image/png": "[encoded data removed]",
      "text/plain": [
       "<Figure size 1000x500 with 1 Axes>"
      ]
     },
     "metadata": {},
     "output_type": "display_data"
    }
   ],
   "source": [
    "import statsmodels.api as sm\n",
    "from statsmodels.tsa.ar_model import AutoReg\n",
    "data = df[\"sensor_00\"].values\n",
    "\n",
    "\n",
    "\n",
    "model = AutoReg(data, lags=1)\n",
    "model_fit = model.fit()\n",
    "\n",
    "plt.figure(figsize=(10, 5))\n",
    "# Plot the partial autocorrelation plot\n",
    "sm.graphics.tsa.plot_acf(model_fit.resid, lags=300, ax = plt.gca())\n",
    "plt.show()"
   ]
  },
  {
   "cell_type": "code",
   "execution_count": null,
   "metadata": {},
   "outputs": [],
   "source": []
  },
  {
   "cell_type": "markdown",
   "metadata": {},
   "source": [
    "# Regression"
   ]
  },
  {
   "cell_type": "code",
   "execution_count": null,
   "metadata": {},
   "outputs": [],
   "source": [
    "idx_train, idx_test, Y_train, Y_test = train_test_split(np.arange(len(y_classif)), \n",
    "    y_classif, test_size=0.3, random_state=1, stratify=y_classif)\n",
    "print(Counter(Y_train), Counter(Y_test), len(idx_train), len(idx_test))"
   ]
  },
  {
   "cell_type": "code",
   "execution_count": null,
   "metadata": {},
   "outputs": [],
   "source": [
    "# Create a DMatrix for more efficiency\n",
    "dtrain = xgb.DMatrix(X[idx_train].reshape(len(idx_train), -1), label=y_reg[idx_train])\n",
    "dtest = xgb.DMatrix(X[idx_test].reshape(len(idx_test), -1), label=y_reg[idx_test])\n",
    "\n",
    "# Define the parameters\n",
    "param = {\n",
    "    'max_depth': 3,  # the maximum depth of each tree\n",
    "    'eta': 0.3,  # the training step for each iteration\n",
    "    'objective': 'reg:squarederror',  # error function for regression\n",
    "    'eval_metric': 'rmse'  # evaluation metric for regression\n",
    "}\n",
    "num_round = 10  # the number of training iterations\n",
    "\n",
    "# Train the model\n",
    "bst = xgb.train(param, dtrain, num_round)\n",
    "\n"
   ]
  },
  {
   "cell_type": "code",
   "execution_count": null,
   "metadata": {},
   "outputs": [],
   "source": [
    "np.mean(y_reg[idx_test])"
   ]
  },
  {
   "cell_type": "code",
   "execution_count": null,
   "metadata": {},
   "outputs": [],
   "source": [
    "# Make prediction\n",
    "preds = bst.predict(dtest)\n",
    "true = y_reg[idx_test]"
   ]
  },
  {
   "cell_type": "code",
   "execution_count": null,
   "metadata": {},
   "outputs": [],
   "source": [
    "mean_absolute_error(true, preds)"
   ]
  },
  {
   "cell_type": "code",
   "execution_count": null,
   "metadata": {},
   "outputs": [],
   "source": []
  },
  {
   "cell_type": "code",
   "execution_count": null,
   "metadata": {},
   "outputs": [],
   "source": []
  }
 ],
 "metadata": {
  "kernelspec": {
   "display_name": "Python 3",
   "language": "python",
   "name": "python3"
  },
  "language_info": {
   "codemirror_mode": {
    "name": "ipython",
    "version": 3
   },
   "file_extension": ".py",
   "mimetype": "text/x-python",
   "name": "python",
   "nbconvert_exporter": "python",
   "pygments_lexer": "ipython3",
   "version": "3.11.5"
  }
 },
 "nbformat": 4,
 "nbformat_minor": 2
}
